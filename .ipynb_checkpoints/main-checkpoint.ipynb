{
 "cells": [
  {
   "cell_type": "code",
   "execution_count": null,
   "id": "ad80f067",
   "metadata": {
    "ExecuteTime": {
     "end_time": "2024-07-25T00:05:04.725930Z",
     "start_time": "2024-07-25T00:05:04.721689Z"
    }
   },
   "outputs": [],
   "source": [
    "from connectors.coinbasepro_products import *\n",
    "from datetime import datetime as dt\n",
    "from pprint import pprint as pp\n",
    "import json"
   ]
  },
  {
   "cell_type": "code",
   "execution_count": null,
   "id": "5cb101a4",
   "metadata": {
    "ExecuteTime": {
     "end_time": "2024-07-25T00:05:06.697680Z",
     "start_time": "2024-07-25T00:05:06.322479Z"
    }
   },
   "outputs": [],
   "source": [
    "# Filled Orders\n",
    "\n",
    "filled_orders = coinbase_request('GET', '/api/v3/brokerage/orders/historical/fills', '')['fills']\n",
    "\n",
    "print(json.dumps(filled_orders, indent=2))\n"
   ]
  },
  {
   "cell_type": "code",
   "execution_count": null,
   "id": "b4131580",
   "metadata": {
    "ExecuteTime": {
     "end_time": "2024-07-25T00:05:07.998461Z",
     "start_time": "2024-07-25T00:05:07.982448Z"
    }
   },
   "outputs": [],
   "source": [
    "with open(f'filled_orders_[{dt.now().strftime(\"%b_%d_%Y\")}].json', 'w') as file:\n",
    "    json.dump(filled_orders, file, indent=6)\n",
    "    \n",
    "# print(len(filled_orders))"
   ]
  },
  {
   "cell_type": "code",
   "execution_count": null,
   "id": "87e7ae02",
   "metadata": {
    "ExecuteTime": {
     "end_time": "2024-07-25T10:57:08.451851Z",
     "start_time": "2024-07-25T10:57:07.791752Z"
    },
    "scrolled": true
   },
   "outputs": [],
   "source": [
    "# All Orders\n",
    "all_orders = coinbase_request('GET', '/api/v3/brokerage/orders/historical/batch', '')['orders']\n",
    "\n",
    "# print(json.dumps(all_orders, indent=2))"
   ]
  },
  {
   "cell_type": "code",
   "execution_count": null,
   "id": "ea694151",
   "metadata": {
    "ExecuteTime": {
     "end_time": "2024-07-25T00:05:17.349505Z",
     "start_time": "2024-07-25T00:05:17.196640Z"
    }
   },
   "outputs": [],
   "source": [
    "with open(f'all_orders_[{dt.now().strftime(\"%b_%d_%Y\")}].json', 'w') as file:\n",
    "    json.dump(all_orders, file, indent=6)\n",
    "    \n",
    "# print(len(all_orders))"
   ]
  },
  {
   "cell_type": "code",
   "execution_count": null,
   "id": "64f08a60",
   "metadata": {
    "ExecuteTime": {
     "end_time": "2024-07-25T00:06:21.352160Z",
     "start_time": "2024-07-25T00:06:20.631561Z"
    }
   },
   "outputs": [],
   "source": [
    "# All Accounts\n",
    "accounts = coinbase_request('GET', '/api/v3/brokerage/accounts?limit=250', '')['accounts']\n"
   ]
  },
  {
   "cell_type": "code",
   "execution_count": null,
   "id": "d8455327",
   "metadata": {
    "ExecuteTime": {
     "end_time": "2024-07-25T00:06:23.829491Z",
     "start_time": "2024-07-25T00:06:23.799257Z"
    }
   },
   "outputs": [],
   "source": [
    "with open(f'all_accounts_[{dt.now().strftime(\"%b_%d_%Y\")}].json', 'w') as file:\n",
    "    json.dump(accounts, file, indent=6)"
   ]
  },
  {
   "cell_type": "code",
   "execution_count": null,
   "id": "3d1ce7b5",
   "metadata": {
    "ExecuteTime": {
     "end_time": "2024-07-18T15:49:05.132426Z",
     "start_time": "2024-07-18T15:49:04.616418Z"
    }
   },
   "outputs": [],
   "source": [
    "products = getAllProductInfo()['products']"
   ]
  },
  {
   "cell_type": "code",
   "execution_count": null,
   "id": "520fc6b6",
   "metadata": {
    "ExecuteTime": {
     "end_time": "2024-07-18T15:49:05.941143Z",
     "start_time": "2024-07-18T15:49:05.934162Z"
    }
   },
   "outputs": [],
   "source": [
    "# for product in products:\n",
    "#     if 'USDC' in product['product_id']:\n",
    "#         pp(product)"
   ]
  },
  {
   "cell_type": "code",
   "execution_count": null,
   "id": "c25d0805",
   "metadata": {
    "ExecuteTime": {
     "end_time": "2024-07-18T15:49:08.571582Z",
     "start_time": "2024-07-18T15:49:08.560879Z"
    }
   },
   "outputs": [],
   "source": [
    "for account in accounts:\n",
    "    if account['currency'] == 'USD':\n",
    "        print('USD:')\n",
    "        pp(account)\n",
    "    elif account['currency'] == 'USDC':\n",
    "        print('\\nUSDC:')\n",
    "        pp(account)"
   ]
  }
 ],
 "metadata": {
  "kernelspec": {
   "display_name": "Python 3 (ipykernel)",
   "language": "python",
   "name": "python3"
  },
  "language_info": {
   "codemirror_mode": {
    "name": "ipython",
    "version": 3
   },
   "file_extension": ".py",
   "mimetype": "text/x-python",
   "name": "python",
   "nbconvert_exporter": "python",
   "pygments_lexer": "ipython3",
   "version": "3.11.5"
  }
 },
 "nbformat": 4,
 "nbformat_minor": 5
}
